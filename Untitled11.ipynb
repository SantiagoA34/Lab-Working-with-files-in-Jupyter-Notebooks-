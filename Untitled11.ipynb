{
 "cells": [
  {
   "cell_type": "markdown",
   "id": "879d5df4-a813-4a05-ba22-a9e80a7fc16e",
   "metadata": {},
   "source": [
    "<center><h1>Evaluación Aplicativa</h1></center>"
   ]
  },
  {
   "cell_type": "markdown",
   "id": "5d1bbc74-2926-499a-a48f-b9f485ec477c",
   "metadata": {},
   "source": [
    "## Nombres: \n",
    "    \n",
    "* Santiago Alarcón\n",
    "* Alex San Martín\n",
    "* Nicolás Irusta"
   ]
  },
  {
   "cell_type": "markdown",
   "id": "6b9e18b4-c3e1-4819-84ed-3af7daad01b6",
   "metadata": {},
   "source": [
    "### Introducción:\n",
    "El objetivo de este trabajo es \n",
    "y Relación con el aprendizaje de la estadística inferencial.\n",
    "\n"
   ]
  },
  {
   "cell_type": "markdown",
   "id": "38efe718-d4a0-4f53-849f-207945289adb",
   "metadata": {},
   "source": [
    "#### Distribuciones usadas:\n",
    "* Distribución Polya\n",
    "* Distribución Gamma\n",
    "* Distribución Beta\n",
    "* Distribución Hipergeométrica\n"
   ]
  },
  {
   "cell_type": "markdown",
   "id": "9226f6fb-709b-4875-a57d-89a508b44421",
   "metadata": {},
   "source": [
    "### Orígen:\n"
   ]
  },
  {
   "cell_type": "markdown",
   "id": "b6c222d8-fc48-4fe7-872b-8fdc82915ba8",
   "metadata": {},
   "source": [
    "### Usos y Aplicaciones:"
   ]
  },
  {
   "cell_type": "markdown",
   "id": "c3592d71-9883-4157-bba6-5f72e14e3cb7",
   "metadata": {},
   "source": [
    "### Parámetros de Ajuste:\n",
    "Los parámetros de ajustes varían dependiendo de las distrbuciones. Estos definen la forma y posición de la distribución para que se ajuste de la mejor manera a los datos, representando los datos realisticamente. "
   ]
  },
  {
   "cell_type": "markdown",
   "id": "4f54d4a8-59ac-440e-84bb-bf13b13e5e4a",
   "metadata": {},
   "source": [
    "##### Distribución Polya: \n",
    "Existen 4 parámetros para esta distribución\n",
    "|Parámetro|Representación|\n",
    "|---------|--------------|\n",
    "|N|Número total de pruebas|\n",
    "|M/p|Muestran la probabilidad inicial de obtener un resultado en el primer intento|\n",
    "|n|Número de pruebas realizadas|\n",
    "|c|Es un factor de contagio. Es decir, este parámetro determina cómo cambian las probabilidades de obtener cierto resultado en las pruebas dependiendo del resultado anterior|"
   ]
  },
  {
   "cell_type": "markdown",
   "id": "399f25e4-8559-41ab-aa37-247c63fa52dc",
   "metadata": {},
   "source": [
    "### Momentos Centrales:"
   ]
  },
  {
   "cell_type": "markdown",
   "id": "a39e2d4c-028c-4848-8a35-2302ad5ac5c1",
   "metadata": {},
   "source": [
    "### Funciones y Gráficos:"
   ]
  },
  {
   "cell_type": "code",
   "execution_count": 72,
   "id": "98ac3a1c-9ebb-4b05-8d15-e234a25d6325",
   "metadata": {},
   "outputs": [
    {
     "data": {
      "text/html": [
       "<style type=\"text/css\">\n",
       "#T_9777c th {\n",
       "  background-color: #4CAF50;\n",
       "  color: white;\n",
       "}\n",
       "#T_9777c_row0_col0, #T_9777c_row0_col1, #T_9777c_row1_col0, #T_9777c_row1_col1, #T_9777c_row2_col0, #T_9777c_row2_col1, #T_9777c_row3_col0, #T_9777c_row3_col1 {\n",
       "  background-color: #f0f8ff;\n",
       "  color: black;\n",
       "  border-color: black;\n",
       "  border-style: solid;\n",
       "  border-width: 1px;\n",
       "}\n",
       "</style>\n",
       "<table id=\"T_9777c\">\n",
       "  <thead>\n",
       "    <tr>\n",
       "      <th class=\"blank level0\" >&nbsp;</th>\n",
       "      <th id=\"T_9777c_level0_col0\" class=\"col_heading level0 col0\" >Parámetro</th>\n",
       "      <th id=\"T_9777c_level0_col1\" class=\"col_heading level0 col1\" >Representación</th>\n",
       "    </tr>\n",
       "  </thead>\n",
       "  <tbody>\n",
       "    <tr>\n",
       "      <th id=\"T_9777c_level0_row0\" class=\"row_heading level0 row0\" >0</th>\n",
       "      <td id=\"T_9777c_row0_col0\" class=\"data row0 col0\" >N</td>\n",
       "      <td id=\"T_9777c_row0_col1\" class=\"data row0 col1\" >Número total de pruebas</td>\n",
       "    </tr>\n",
       "    <tr>\n",
       "      <th id=\"T_9777c_level0_row1\" class=\"row_heading level0 row1\" >1</th>\n",
       "      <td id=\"T_9777c_row1_col0\" class=\"data row1 col0\" >M/p</td>\n",
       "      <td id=\"T_9777c_row1_col1\" class=\"data row1 col1\" >Muestran la probabilidad inicial de obtener un resultado en el primer intento</td>\n",
       "    </tr>\n",
       "    <tr>\n",
       "      <th id=\"T_9777c_level0_row2\" class=\"row_heading level0 row2\" >2</th>\n",
       "      <td id=\"T_9777c_row2_col0\" class=\"data row2 col0\" >n</td>\n",
       "      <td id=\"T_9777c_row2_col1\" class=\"data row2 col1\" >Número de pruebas realizadas</td>\n",
       "    </tr>\n",
       "    <tr>\n",
       "      <th id=\"T_9777c_level0_row3\" class=\"row_heading level0 row3\" >3</th>\n",
       "      <td id=\"T_9777c_row3_col0\" class=\"data row3 col0\" >c</td>\n",
       "      <td id=\"T_9777c_row3_col1\" class=\"data row3 col1\" >Factor de contagio: cómo cambian las probabilidades según resultados anteriores</td>\n",
       "    </tr>\n",
       "  </tbody>\n",
       "</table>\n"
      ],
      "text/plain": [
       "<pandas.io.formats.style.Styler at 0x254cda6eab0>"
      ]
     },
     "execution_count": 72,
     "metadata": {},
     "output_type": "execute_result"
    }
   ],
   "source": [
    "import pandas as pd\n",
    "\n",
    "# Datos de tu tabla\n",
    "data = {\n",
    "    \"Parámetro\": [\"N\", \"M/p\", \"n\", \"c\"],\n",
    "    \"Representación\": [\n",
    "        \"Número total de pruebas\",\n",
    "        \"Muestran la probabilidad inicial de obtener un resultado en el primer intento\",\n",
    "        \"Número de pruebas realizadas\",\n",
    "        \"Factor de contagio: cómo cambian las probabilidades según resultados anteriores\"\n",
    "    ]\n",
    "}\n",
    "\n",
    "# Crear el DataFrame\n",
    "df = pd.DataFrame(data)\n",
    "\n",
    "# Aplicar estilo\n",
    "styled_df = df.style.set_properties(**{\n",
    "    'background-color': '#f0f8ff',  # Azul clarito de fondo\n",
    "    'color': 'black',               # Texto negro\n",
    "    'border-color': 'black',         # Borde negro\n",
    "    'border-style': 'solid',\n",
    "    'border-width': '1px'\n",
    "}).set_table_styles(\n",
    "    [{'selector': 'th', 'props': [('background-color', '#4CAF50'), ('color', 'white')]}]  # Encabezado verde\n",
    ")\n",
    "\n",
    "styled_df"
   ]
  },
  {
   "cell_type": "markdown",
   "id": "b1d9cffe-3870-4406-b43b-779baa84cf17",
   "metadata": {},
   "source": []
  }
 ],
 "metadata": {
  "kernelspec": {
   "display_name": "Python [conda env:base] *",
   "language": "python",
   "name": "conda-base-py"
  },
  "language_info": {
   "codemirror_mode": {
    "name": "ipython",
    "version": 3
   },
   "file_extension": ".py",
   "mimetype": "text/x-python",
   "name": "python",
   "nbconvert_exporter": "python",
   "pygments_lexer": "ipython3",
   "version": "3.12.7"
  }
 },
 "nbformat": 4,
 "nbformat_minor": 5
}
