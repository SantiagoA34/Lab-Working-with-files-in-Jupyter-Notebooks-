{
 "cells": [
  {
   "cell_type": "markdown",
   "id": "e7f33cc6-314a-4ee3-a78f-01e484563fbe",
   "metadata": {},
   "source": [
    "# Data Science Tools and Ecosystem"
   ]
  },
  {
   "cell_type": "markdown",
   "id": "b7410522-c831-4930-b01e-e8e67ca0c0fc",
   "metadata": {},
   "source": [
    "In this JupyterNotebook, we are going to summarize the Data Science Tools and Ecosystem."
   ]
  },
  {
   "cell_type": "markdown",
   "id": "c3018118-196c-4f32-9291-677baa36844e",
   "metadata": {},
   "source": [
    "**Objectives:**\n",
    "- List popular languages for Data Science\n",
    "- List most used libraries in Data Science\n",
    "- Create a table of Data Science tools\n",
    "- Demonstrate basic arithmetic in Python"
   ]
  },
  {
   "cell_type": "markdown",
   "id": "c4ead51e-1ab0-4fa0-ab87-8babacc58ee7",
   "metadata": {},
   "source": [
    "The most popular languages that Data Scientists use are the followings:\n",
    "1. Python\n",
    "2. R\n",
    "3. SQL"
   ]
  },
  {
   "cell_type": "markdown",
   "id": "94d92a28-4d8c-4b99-9df8-d0e7f9f914f9",
   "metadata": {},
   "source": [
    "These are some of the most common and popular libraries that Data Scientists use:\n",
    "1. NumPy\n",
    "2. Pandas\n",
    "3. Matplotlib\n",
    "4. Scikit-learn\n",
    "5. TensorFlow"
   ]
  },
  {
   "cell_type": "markdown",
   "id": "4e89a579-4058-4e45-9f14-6cbfd155f70b",
   "metadata": {},
   "source": [
    "| Data Science Tools |\n",
    "|--------------------|\n",
    "| Jupyter Notebook   |\n",
    "| RStudio            |\n",
    "| Visual Studio Code |"
   ]
  },
  {
   "cell_type": "markdown",
   "id": "04f3fc14-971f-4bad-a5b3-f622a4daaa1b",
   "metadata": {},
   "source": [
    "### Some examples of evaluationg arithmetic expressions in Python are shown below "
   ]
  },
  {
   "cell_type": "code",
   "execution_count": 23,
   "id": "75534e0e-2c2d-43d5-a9fb-314e693470c9",
   "metadata": {},
   "outputs": [
    {
     "data": {
      "text/plain": [
       "17"
      ]
     },
     "execution_count": 23,
     "metadata": {},
     "output_type": "execute_result"
    }
   ],
   "source": [
    "#This is a simple arithmetic expression where a multiplications is done first, then add an integer\n",
    "(3*4)+5"
   ]
  },
  {
   "cell_type": "code",
   "execution_count": 28,
   "id": "6b1d8355-ae72-4a7f-b4ff-12a8b4f467eb",
   "metadata": {},
   "outputs": [
    {
     "data": {
      "text/plain": [
       "3.3333333333333335"
      ]
     },
     "execution_count": 28,
     "metadata": {},
     "output_type": "execute_result"
    }
   ],
   "source": [
    "#Now, this code will convert 200 minutes to hours. This will be done by dividing it by 60\n",
    "200/60"
   ]
  },
  {
   "cell_type": "markdown",
   "id": "eaee942c-3a4c-4c09-a810-cf9b9035b758",
   "metadata": {},
   "source": [
    "## Author: \n",
    "Santiago Alarcón"
   ]
  }
 ],
 "metadata": {
  "kernelspec": {
   "display_name": "Python [conda env:base] *",
   "language": "python",
   "name": "conda-base-py"
  },
  "language_info": {
   "codemirror_mode": {
    "name": "ipython",
    "version": 3
   },
   "file_extension": ".py",
   "mimetype": "text/x-python",
   "name": "python",
   "nbconvert_exporter": "python",
   "pygments_lexer": "ipython3",
   "version": "3.12.7"
  }
 },
 "nbformat": 4,
 "nbformat_minor": 5
}
